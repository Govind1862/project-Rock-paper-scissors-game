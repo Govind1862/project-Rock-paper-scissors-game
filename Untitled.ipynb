{
 "cells": [
  {
   "cell_type": "code",
   "execution_count": 3,
   "id": "d3508b2a-8dfb-4618-9074-cd8af52a7970",
   "metadata": {},
   "outputs": [
    {
     "name": "stdin",
     "output_type": "stream",
     "text": [
      "Welcome to the rock paper scissor game.\n",
      "Please input your choice\n",
      "1. r for rock\n",
      "2. p for paper\n",
      "3. s for scissor\n",
      " r\n"
     ]
    },
    {
     "name": "stdout",
     "output_type": "stream",
     "text": [
      "The computer has chosen scissor\n",
      "The computer chose scissor and you win\n"
     ]
    }
   ],
   "source": [
    "import random\n",
    "def rps():\n",
    "    x = input(\"Welcome to the rock paper scissor game.\\nPlease input your choice\\n1. r for rock\\n2. p for paper\\n3. s for scissor\\n\")\n",
    "    a = [\"rock\",\"paper\",\"scissor\"]\n",
    "    comp = random.choice(a)\n",
    "    print(f\"The computer has chosen {comp}\")\n",
    "    if (comp == \"rock\" and x == \"r\"):\n",
    "        print(\"You and the computer both chose rock. Please play again\")\n",
    "        rps()\n",
    "    elif (comp == \"rock\" and x == \"p\"):\n",
    "        print(\"Computer chose rock and you win\")\n",
    "    elif (comp == \"rock\" and x == \"s\"):\n",
    "        print(\"The computer chose rock and you lose\")\n",
    "    elif (comp == \"paper\" and x == \"r\"):\n",
    "        print(\"The computer chose paper and you lose\")\n",
    "    elif (comp == \"paper\" and x == \"p\"):\n",
    "        print(\"You and the computer both chose paper. Please play again\")\n",
    "        rps()\n",
    "    elif (comp == \"paper\" and x == \"s\"):\n",
    "        print(\"The computer chose paper and you win\")\n",
    "    elif (comp == \"scissor\" and x == \"r\"):\n",
    "        print(\"The computer chose scissor and you win\")\n",
    "    elif (comp == \"scissor\" and x == \"p\"):\n",
    "        print(\"The computer chose scissor and you lose\")\n",
    "    elif (comp == \"scissor\" and x == \"s\"):\n",
    "        print(\"You and the computer both chose scissor. Please play again\")\n",
    "        rps()\n",
    "rps()"
   ]
  },
  {
   "cell_type": "code",
   "execution_count": null,
   "id": "a7b31a16-bd7b-4a90-84b1-0e25f4e96938",
   "metadata": {},
   "outputs": [],
   "source": []
  }
 ],
 "metadata": {
  "kernelspec": {
   "display_name": "Python 3 (ipykernel)",
   "language": "python",
   "name": "python3"
  },
  "language_info": {
   "codemirror_mode": {
    "name": "ipython",
    "version": 3
   },
   "file_extension": ".py",
   "mimetype": "text/x-python",
   "name": "python",
   "nbconvert_exporter": "python",
   "pygments_lexer": "ipython3",
   "version": "3.12.4"
  }
 },
 "nbformat": 4,
 "nbformat_minor": 5
}
